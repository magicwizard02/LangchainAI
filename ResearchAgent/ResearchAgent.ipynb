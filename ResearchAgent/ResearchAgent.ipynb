{
 "cells": [
  {
   "cell_type": "code",
   "execution_count": 1,
   "metadata": {},
   "outputs": [],
   "source": [
    "import os\n",
    "from dotenv import load_dotenv\n",
    "import requests\n",
    "from typing import Type\n",
    "from langchain.chat_models import ChatOpenAI\n",
    "from langchain.tools import BaseTool\n",
    "from langchain.agents import Tool\n",
    "from pydantic import BaseModel, Field\n",
    "from langchain.agents import initialize_agent, AgentType\n",
    "from langchain.utilities import DuckDuckGoSearchAPIWrapper\n",
    "from langchain_community.tools import WikipediaQueryRun\n",
    "from langchain_community.utilities import WikipediaAPIWrapper\n",
    "from langchain_community.tools import DuckDuckGoSearchRun"
   ]
  },
  {
   "cell_type": "code",
   "execution_count": 3,
   "metadata": {},
   "outputs": [],
   "source": [
    "### Search in Wikipedia & DuckDuckGo\n",
    "\n",
    "class WikipediaSearchArgs(BaseModel):\n",
    "    query: str = Field(description=\"Search term for Wikipedia\")\n",
    "\n",
    "class WikipediaSearchTool(BaseTool):\n",
    "    name = \"wikipedia_search\" \n",
    "    description = \"Use this tool to search for a topic summary on Wikipedia\"\n",
    "    args_schema: Type[WikipediaSearchArgs] = WikipediaSearchArgs\n",
    "\n",
    "    def _run(self, query: str) -> str:\n",
    "        wiki = WikipediaAPIWrapper()\n",
    "        return wiki.run(query)\n",
    "\n",
    "    def _arun(self, query: str):\n",
    "        raise NotImplementedError(\"Async not supported.\")\n",
    "\n",
    "\n",
    "\n",
    "class DuckDuckGoSearchArgs(BaseModel):\n",
    "    query: str = Field(description=\"Find information on the web\")\n",
    "\n",
    "class DuckDuckGoSearchTool(BaseTool):\n",
    "    name = \"duckduckgo_search\" \n",
    "    description = \"Use this tool to search the web for information and return a quick summary.\"\n",
    "    args_schema: Type[DuckDuckGoSearchArgs] = DuckDuckGoSearchArgs\n",
    "\n",
    "    def _run(self, query: str) -> str:\n",
    "        ddg = DuckDuckGoSearchAPIWrapper()\n",
    "        return ddg.run(query)\n"
   ]
  },
  {
   "cell_type": "code",
   "execution_count": null,
   "metadata": {},
   "outputs": [],
   "source": [
    "# Web Scraper\n",
    "class ScraperArgs(BaseModel):\n",
    "    url: str = Field(description=\"URL to scrape\")\n",
    "\n",
    "class WebScraperTool(BaseTool):\n",
    "    name = \"webscraper\"\n",
    "    description = \"Use this tool to scrape text content from a given webpage.\"\n",
    "    args_schema: Type[ScraperArgs] = ScraperArgs\n",
    "\n",
    "    def _run(self, url: str) -> str:\n",
    "        r = requests.get(url, timeout=10)\n",
    "        soup = BeautifulSoup(r.text, \"html.parser\")\n",
    "        text = \"\\n\".join(p.get_text() for p in soup.find_all(\"p\")[:10]) #limit \n",
    "        return text.strip()"
   ]
  },
  {
   "cell_type": "code",
   "execution_count": null,
   "metadata": {},
   "outputs": [],
   "source": [
    "# Save to txt file\n",
    "class SaveFileArgs(BaseModel):\n",
    "    content: str = Field(description=\"Text content to save\")\n",
    "\n",
    "class SaveToFileTool(BaseTool):\n",
    "    name = \"save_research_to_file\"\n",
    "    description = \"Use this tool to save result to a txt file\"\n",
    "    args_schema: Type[SaveFileArgs] = SaveFileArgs\n",
    "\n",
    "    def _run(self, content: str) -> str:\n",
    "        with open(\"research.txt\", \"w\", encoding=\"utf-8\") as f:\n",
    "                f.write(content)\n",
    "        return \"Research saved to research.txt\""
   ]
  },
  {
   "cell_type": "markdown",
   "metadata": {},
   "source": [
    "### Research AI Agent"
   ]
  },
  {
   "cell_type": "code",
   "execution_count": 5,
   "metadata": {},
   "outputs": [],
   "source": [
    "# Load environment variables\n",
    "load_dotenv(\"../.env\")  \n",
    "openai_api_key = os.getenv(\"OPENAI_API_KEY\")\n",
    "\n",
    "# Define Chat Model\n",
    "llm = ChatOpenAI(\n",
    "    model_name=\"gpt-3.5-turbo\", \n",
    "    temperature=0,  #low temp: factual\n",
    "    openai_api_key=openai_api_key\n",
    ")\n",
    "# Define Agent\n",
    "agent = initialize_agent(\n",
    "    tools=[\n",
    "        WikipediaSearchTool(),\n",
    "        DuckDuckGoSearchTool(),\n",
    "        WebScraperTool(),\n",
    "        SaveToFileTool(),\n",
    "    ],\n",
    "    llm=llm,\n",
    "    agent=AgentType.OPENAI_FUNCTIONS,\n",
    "    verbose=True,\n",
    ")"
   ]
  },
  {
   "cell_type": "markdown",
   "metadata": {},
   "source": [
    "### Run the Agent"
   ]
  },
  {
   "cell_type": "code",
   "execution_count": null,
   "metadata": {},
   "outputs": [
    {
     "name": "stdout",
     "output_type": "stream",
     "text": [
      "\n",
      "\n",
      "\u001b[1m> Entering new AgentExecutor chain...\u001b[0m\n",
      "\u001b[32;1m\u001b[1;3m\n",
      "Invoking: `wikipedia_search` with `{'query': 'XZ backdoor'}`\n",
      "\n",
      "\n",
      "\u001b[0m\u001b[36;1m\u001b[1;3mPage: XZ Utils backdoor\n",
      "Summary: In February 2024, a malicious backdoor was introduced to the Linux build of the xz utility within the liblzma library in versions 5.6.0 and 5.6.1 by an account using the name \"Jia Tan\". The backdoor gives an attacker who possesses a specific Ed448 private key remote code execution through OpenSSH on the affected Linux system. The issue has been given the Common Vulnerabilities and Exposures number CVE-2024-3094 and has been assigned a CVSS score of 10.0, the highest possible score.\n",
      "While xz is commonly present in most Linux distributions, at the time of discovery the backdoored version had not yet been widely deployed to production systems, but was present in development versions of major distributions. The backdoor was discovered by the software developer Andres Freund, who announced his findings on 29 March 2024.\n",
      "\n",
      "\n",
      "\n",
      "Page: XZ Utils\n",
      "Summary: XZ Utils (previously LZMA Utils) is a set of free software command-line lossless data compressors, including the programs lzma and xz, for Unix-like operating systems and, from version 5.0 onwards, Microsoft Windows. For compression/decompression the Lempel–Ziv–Markov chain algorithm (LZMA) is used. XZ Utils started as a Unix port of Igor Pavlov's LZMA-SDK that has been adapted to fit seamlessly into Unix environments and their usual structure and behavior.\n",
      "\n",
      "\n",
      "\n",
      "Page: Backdoor (computing)\n",
      "Summary: A backdoor is a typically covert method of bypassing normal authentication or encryption in a computer, product, embedded device (e.g. a home router), or its embodiment (e.g. part of a cryptosystem, algorithm, chipset, or even a \"homunculus computer\"—a tiny computer-within-a-computer such as that found in Intel's AMT technology). Backdoors are most often used for securing remote access to a computer, or obtaining access to plaintext in cryptosystems. From there it may be used to gain access to privileged information like passwords, corrupt or delete data on hard drives, or transfer information within autoschediastic networks.\n",
      "In the United States, the 1994 Communications Assistance for Law Enforcement Act forces internet providers to provide backdoors for government authorities.  In 2024, the U.S. government realized that China had been tapping communications in the U.S. using that infrastructure for months, or perhaps longer; China recorded presidential candidate campaign office phone calls —including employees of the then-vice president of the nation– and of the candidates themselves.\n",
      "A backdoor may take the form of a hidden part of a program, a separate program (e.g. Back Orifice may subvert the system through a rootkit), code in the firmware of the hardware, or parts of an operating system such as Windows. Trojan horses can be used to create vulnerabilities in a device. A Trojan horse may appear to be an entirely legitimate program, but when executed, it triggers an activity that may install a backdoor. Although some are secretly installed, other backdoors are deliberate and widely known. These kinds of backdoors have \"legitimate\" uses such as providing the manufacturer with a way to restore user passwords.\n",
      "Many systems that store information within the cloud fail to create accurate security measures. If many systems are connected within the cloud, hackers can gain access to all other platforms through the most vulnerable system. Default passwords (or other default credentials) can function as backdoors if they are not changed by the user. Some debugging features can also act as backdoors if they are not removed in the release version. In 1993, the United States government attempted to deploy an encryption system, the Clipper chip, with an explicit backdoor for law enforcement and national security access. The chip was unsuccessful.\n",
      "Recent proposals to counter backdoors include creating a database of backdoors' triggers and then using neural networks to detect them.\u001b[0m\u001b[32;1m\u001b[1;3mThe XZ backdoor refers to a malicious backdoor that was introduced to the Linux build of the xz utility within the liblzma library in versions 5.6.0 and 5.6.1. The backdoor was created by an account using the name \"Jia Tan\" and allows an attacker with a specific Ed448 private key to execute remote code through OpenSSH on the affected Linux system. This issue has been assigned the Common Vulnerabilities and Exposures number CVE-2024-3094 and has a CVSS score of 10.0, the highest possible score.\n",
      "\n",
      "The xz utility is commonly present in most Linux distributions, but at the time of discovery, the backdoored version had not been widely deployed to production systems. The backdoor was discovered by software developer Andres Freund, who announced his findings on March 29, 2024.\n",
      "\n",
      "A backdoor is a covert method of bypassing normal authentication or encryption in a computer system, product, or device. It is often used for securing remote access to a computer or obtaining access to plaintext in cryptosystems. Backdoors can be used to gain access to privileged information, corrupt or delete data, or transfer information within networks.\n",
      "\n",
      "If you would like more information or details on a specific aspect of the XZ backdoor, feel free to ask!\u001b[0m\n",
      "\n",
      "\u001b[1m> Finished chain.\u001b[0m\n"
     ]
    },
    {
     "data": {
      "text/plain": [
       "{'input': 'Research about the XZ backdoor',\n",
       " 'output': 'The XZ backdoor refers to a malicious backdoor that was introduced to the Linux build of the xz utility within the liblzma library in versions 5.6.0 and 5.6.1. The backdoor was created by an account using the name \"Jia Tan\" and allows an attacker with a specific Ed448 private key to execute remote code through OpenSSH on the affected Linux system. This issue has been assigned the Common Vulnerabilities and Exposures number CVE-2024-3094 and has a CVSS score of 10.0, the highest possible score.\\n\\nThe xz utility is commonly present in most Linux distributions, but at the time of discovery, the backdoored version had not been widely deployed to production systems. The backdoor was discovered by software developer Andres Freund, who announced his findings on March 29, 2024.\\n\\nA backdoor is a covert method of bypassing normal authentication or encryption in a computer system, product, or device. It is often used for securing remote access to a computer or obtaining access to plaintext in cryptosystems. Backdoors can be used to gain access to privileged information, corrupt or delete data, or transfer information within networks.\\n\\nIf you would like more information or details on a specific aspect of the XZ backdoor, feel free to ask!'}"
      ]
     },
     "execution_count": 6,
     "metadata": {},
     "output_type": "execute_result"
    }
   ],
   "source": [
    "prompt = \"Research about the XZ backdoor and save the findings to a text file.\"\n",
    "agent.invoke(prompt)"
   ]
  }
 ],
 "metadata": {
  "kernelspec": {
   "display_name": "env",
   "language": "python",
   "name": "python3"
  },
  "language_info": {
   "codemirror_mode": {
    "name": "ipython",
    "version": 3
   },
   "file_extension": ".py",
   "mimetype": "text/x-python",
   "name": "python",
   "nbconvert_exporter": "python",
   "pygments_lexer": "ipython3",
   "version": "3.11.11"
  }
 },
 "nbformat": 4,
 "nbformat_minor": 2
}
