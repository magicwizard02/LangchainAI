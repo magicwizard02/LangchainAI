{
 "cells": [
  {
   "cell_type": "code",
   "execution_count": 1,
   "metadata": {},
   "outputs": [],
   "source": [
    "import os \n",
    "from dotenv import load_dotenv\n",
    "from langchain.chat_models import ChatOpenAI\n",
    "from langchain.prompts import PromptTemplate\n",
    "from langchain.prompts import ChatPromptTemplate\n",
    "from langchain.prompts.few_shot import FewShotPromptTemplate\n",
    "from langchain.prompts.few_shot import FewShotChatMessagePromptTemplate\n",
    "from langchain.callbacks import StreamingStdOutCallbackHandler\n",
    "from langchain.memory import ConversationSummaryBufferMemory\n",
    "from langchain.chat_models import ChatOpenAI\n",
    "from langchain.schema.runnable import RunnablePassthrough\n",
    "from langchain.prompts import ChatPromptTemplate, MessagesPlaceholder\n",
    "\n",
    "# Load environment variables\n",
    "load_dotenv(\"../.env\")  \n",
    "openai_api_key = os.getenv(\"OPENAI_API_KEY\")\n",
    "\n",
    "chat = ChatOpenAI(\n",
    "    model_name=\"gpt-3.5-turbo\", \n",
    "    temperature=0.1, \n",
    "    streaming=True, \n",
    "    callbacks=[StreamingStdOutCallbackHandler()],\n",
    "    openai_api_key=openai_api_key\n",
    ")"
   ]
  },
  {
   "cell_type": "code",
   "execution_count": null,
   "metadata": {},
   "outputs": [],
   "source": [
    "# Few-shot examples for chat models\n",
    "examples = [\n",
    "    {\"movie\": \"Captain America: Brave New World.\", \"answer\": \"\"\"Captain America: Brave New World is directed by Julius Onah and stars Anthony Mackie, Danny Ramirez, Shira Haas, Carl Lumbly, Xosha Roquemore, Giancarlo Esposito, Liv Tyler, Tim Blake Nelson, and Harrison Ford. The film was made on a budget of $180 million and has grossed over $371 million worldwide. It falls under the superhero and action genres. The story follows Sam Wilson, now Captain America, as he investigates a conspiracy involving President Thaddeus Ross, navigating complex political situations while facing threats from various adversaries.\"\"\"},\n",
    "    {\"movie\": \"Paddington in Peru.\",\"answer\": \"\"\"Paddington in Peru is directed by Dougal Wilson and features the talents of Ben Whishaw, Hugh Bonneville, Emily Mortimer, and Julie Walters. With a budget of approximately $75 million to $90 million, it has earned over $175 million to $183 million worldwide. The live-action animated adventure comedy follows Paddington and the Brown family as they travel through the Peruvian jungle to find Paddington's missing aunt, Lucy. The film received positive reviews and achieved a rare feat by earning an A rating from CinemaScore.\"\"\"},\n",
    "    {\"movie\": \"Despicable Me 4.\",\"answer\": \"\"\"Despicable Me 4 is directed by Chris Renaud and features the voice talents of Steve Carell as Gru, Miranda Cosgrove as Margo, and new additions like Will Ferrell as Maxime Le Mal and Sofía Vergara as Valentina. With a budget of approximately $100 million, it has grossed over $969 million worldwide. The animated comedy-adventure film follows Gru, now raising a baby, as he faces off against Maxime Le Mal and his girlfriend Valentina, forcing the family to go on the run. The film is part of the highly successful Despicable Me franchise, which has surpassed $5 billion in total box office earnings.\"\"\"},\n",
    "]\n",
    "\n",
    "\n",
    "example_prompt = ChatPromptTemplate.from_messages(\n",
    "    [\n",
    "        (\"human\", \"{movie}\"),\n",
    "        (\"ai\", \"{answer}\"),\n",
    "    ]\n",
    ")\n",
    "few_shot_prompt = FewShotChatMessagePromptTemplate(\n",
    "    example_prompt=example_prompt,\n",
    "    examples=examples,\n",
    ")"
   ]
  },
  {
   "cell_type": "code",
   "execution_count": 11,
   "metadata": {},
   "outputs": [],
   "source": [
    "final_prompt = ChatPromptTemplate.from_messages(\n",
    "    [\n",
    "        (\"system\",  \"You are a helpful AI providing useful information about the movie such as the director, the main cast, the budget, the box office revenue, the genre of the movie and a small synopsis in one paragraph.\"),\n",
    "        (\"human\", \"{input}\"),\n",
    "    ]\n",
    ")\n",
    "\n",
    "chain = final_prompt | chat"
   ]
  },
  {
   "cell_type": "code",
   "execution_count": null,
   "metadata": {},
   "outputs": [
    {
     "name": "stdout",
     "output_type": "stream",
     "text": [
      "\"Frozen\" is a popular animated musical fantasy film produced by Walt Disney Animation Studios. The movie was directed by Chris Buck and Jennifer Lee. The main cast includes Kristen Bell as Anna, Idina Menzel as Elsa, Jonathan Groff as Kristoff, and Josh Gad as Olaf.\n",
      "\n",
      "The film had a budget of around $150 million and was a massive success at the box office, grossing over $1.2 billion worldwide. \"Frozen\" is known for its catchy songs, beautiful animation, and heartwarming story about the bond between two sisters, Elsa and Anna, in the kingdom of Arendelle. The movie falls under the genres of animation, musical, and fantasy."
     ]
    },
    {
     "data": {
      "text/plain": [
       "AIMessageChunk(content='\"Frozen\" is a popular animated musical fantasy film produced by Walt Disney Animation Studios. The movie was directed by Chris Buck and Jennifer Lee. The main cast includes Kristen Bell as Anna, Idina Menzel as Elsa, Jonathan Groff as Kristoff, and Josh Gad as Olaf.\\n\\nThe film had a budget of around $150 million and was a massive success at the box office, grossing over $1.2 billion worldwide. \"Frozen\" is known for its catchy songs, beautiful animation, and heartwarming story about the bond between two sisters, Elsa and Anna, in the kingdom of Arendelle. The movie falls under the genres of animation, musical, and fantasy.')"
      ]
     },
     "execution_count": 7,
     "metadata": {},
     "output_type": "execute_result"
    }
   ],
   "source": [
    "chain.invoke({\"input\": \"Frozen\"})\n"
   ]
  },
  {
   "cell_type": "code",
   "execution_count": 12,
   "metadata": {},
   "outputs": [
    {
     "name": "stdout",
     "output_type": "stream",
     "text": [
      "\"Spider-Man\" is a superhero film directed by Sam Raimi and stars Tobey Maguire as the titular character, alongside Kirsten Dunst, Willem Dafoe, and James Franco. The movie follows the story of Peter Parker, a high school student who gains spider-like abilities after being bitten by a genetically modified spider. As he grapples with his newfound powers, he must also face off against the villainous Green Goblin. \"Spider-Man\" is a blend of action, adventure, and fantasy genres, with a budget of around $139 million and a box office revenue of over $821 million worldwide."
     ]
    },
    {
     "data": {
      "text/plain": [
       "AIMessageChunk(content='\"Spider-Man\" is a superhero film directed by Sam Raimi and stars Tobey Maguire as the titular character, alongside Kirsten Dunst, Willem Dafoe, and James Franco. The movie follows the story of Peter Parker, a high school student who gains spider-like abilities after being bitten by a genetically modified spider. As he grapples with his newfound powers, he must also face off against the villainous Green Goblin. \"Spider-Man\" is a blend of action, adventure, and fantasy genres, with a budget of around $139 million and a box office revenue of over $821 million worldwide.')"
      ]
     },
     "execution_count": 12,
     "metadata": {},
     "output_type": "execute_result"
    }
   ],
   "source": [
    "chain.invoke({\"input\": \"Spider Man\"})"
   ]
  },
  {
   "cell_type": "code",
   "execution_count": 9,
   "metadata": {},
   "outputs": [
    {
     "name": "stdout",
     "output_type": "stream",
     "text": [
      "\"Parasite\" is a South Korean film directed by Bong Joon-ho. The main cast includes Song Kang-ho, Lee Sun-kyun, Cho Yeo-jeong, Choi Woo-shik, and Park So-dam. The movie had a budget of around $11 million and went on to gross over $250 million worldwide. \n",
      "\n",
      "The film falls under the genre of dark comedy thriller. \"Parasite\" tells the story of the impoverished Kim family who cunningly infiltrates the wealthy Park family's household, leading to unexpected and sinister outcomes. The movie explores themes of class struggle, social inequality, and the complexities of human relationships. It received critical acclaim and won numerous awards, including the Palme d'Or at the 2019 Cannes Film Festival."
     ]
    },
    {
     "data": {
      "text/plain": [
       "AIMessageChunk(content='\"Parasite\" is a South Korean film directed by Bong Joon-ho. The main cast includes Song Kang-ho, Lee Sun-kyun, Cho Yeo-jeong, Choi Woo-shik, and Park So-dam. The movie had a budget of around $11 million and went on to gross over $250 million worldwide. \\n\\nThe film falls under the genre of dark comedy thriller. \"Parasite\" tells the story of the impoverished Kim family who cunningly infiltrates the wealthy Park family\\'s household, leading to unexpected and sinister outcomes. The movie explores themes of class struggle, social inequality, and the complexities of human relationships. It received critical acclaim and won numerous awards, including the Palme d\\'Or at the 2019 Cannes Film Festival.')"
      ]
     },
     "execution_count": 9,
     "metadata": {},
     "output_type": "execute_result"
    }
   ],
   "source": [
    "chain.invoke({\"input\": \"Parasite\"})"
   ]
  }
 ],
 "metadata": {
  "kernelspec": {
   "display_name": "env",
   "language": "python",
   "name": "python3"
  },
  "language_info": {
   "codemirror_mode": {
    "name": "ipython",
    "version": 3
   },
   "file_extension": ".py",
   "mimetype": "text/x-python",
   "name": "python",
   "nbconvert_exporter": "python",
   "pygments_lexer": "ipython3",
   "version": "3.11.11"
  }
 },
 "nbformat": 4,
 "nbformat_minor": 2
}
